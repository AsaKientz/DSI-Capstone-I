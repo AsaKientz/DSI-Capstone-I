{
 "cells": [
  {
   "cell_type": "code",
   "execution_count": 73,
   "metadata": {},
   "outputs": [],
   "source": [
    "import numpy as np\n",
    "import pandas as pd\n",
    "import matplotlib.pyplot as plt\n",
    "\n",
    "from string import punctuation\n",
    "from sklearn.feature_extraction import stop_words\n",
    "stopwords = stop_words.ENGLISH_STOP_WORDS\n",
    "import argparse\n",
    "\n",
    "\n",
    "params = {'axes.labelsize': 10,\n",
    "          'axes.titlesize': 10,\n",
    "          'font.size': 14}\n",
    "plt.rcParams.update(params)"
   ]
  },
  {
   "cell_type": "code",
   "execution_count": 74,
   "metadata": {},
   "outputs": [],
   "source": [
    "df_raw = pd.read_csv('../data/mbti_1.csv')"
   ]
  },
  {
   "cell_type": "code",
   "execution_count": 75,
   "metadata": {},
   "outputs": [
    {
     "data": {
      "text/html": [
       "<div>\n",
       "<style scoped>\n",
       "    .dataframe tbody tr th:only-of-type {\n",
       "        vertical-align: middle;\n",
       "    }\n",
       "\n",
       "    .dataframe tbody tr th {\n",
       "        vertical-align: top;\n",
       "    }\n",
       "\n",
       "    .dataframe thead th {\n",
       "        text-align: right;\n",
       "    }\n",
       "</style>\n",
       "<table border=\"1\" class=\"dataframe\">\n",
       "  <thead>\n",
       "    <tr style=\"text-align: right;\">\n",
       "      <th></th>\n",
       "      <th>type</th>\n",
       "      <th>posts</th>\n",
       "    </tr>\n",
       "  </thead>\n",
       "  <tbody>\n",
       "    <tr>\n",
       "      <td>0</td>\n",
       "      <td>INFJ</td>\n",
       "      <td>'http://www.youtube.com/watch?v=qsXHcwe3krw|||...</td>\n",
       "    </tr>\n",
       "    <tr>\n",
       "      <td>1</td>\n",
       "      <td>ENTP</td>\n",
       "      <td>'I'm finding the lack of me in these posts ver...</td>\n",
       "    </tr>\n",
       "    <tr>\n",
       "      <td>2</td>\n",
       "      <td>INTP</td>\n",
       "      <td>'Good one  _____   https://www.youtube.com/wat...</td>\n",
       "    </tr>\n",
       "    <tr>\n",
       "      <td>3</td>\n",
       "      <td>INTJ</td>\n",
       "      <td>'Dear INTP,   I enjoyed our conversation the o...</td>\n",
       "    </tr>\n",
       "    <tr>\n",
       "      <td>4</td>\n",
       "      <td>ENTJ</td>\n",
       "      <td>'You're fired.|||That's another silly misconce...</td>\n",
       "    </tr>\n",
       "  </tbody>\n",
       "</table>\n",
       "</div>"
      ],
      "text/plain": [
       "   type                                              posts\n",
       "0  INFJ  'http://www.youtube.com/watch?v=qsXHcwe3krw|||...\n",
       "1  ENTP  'I'm finding the lack of me in these posts ver...\n",
       "2  INTP  'Good one  _____   https://www.youtube.com/wat...\n",
       "3  INTJ  'Dear INTP,   I enjoyed our conversation the o...\n",
       "4  ENTJ  'You're fired.|||That's another silly misconce..."
      ]
     },
     "execution_count": 75,
     "metadata": {},
     "output_type": "execute_result"
    }
   ],
   "source": [
    "df_raw.head(5)"
   ]
  },
  {
   "cell_type": "code",
   "execution_count": 76,
   "metadata": {},
   "outputs": [
    {
     "data": {
      "text/html": [
       "<div>\n",
       "<style scoped>\n",
       "    .dataframe tbody tr th:only-of-type {\n",
       "        vertical-align: middle;\n",
       "    }\n",
       "\n",
       "    .dataframe tbody tr th {\n",
       "        vertical-align: top;\n",
       "    }\n",
       "\n",
       "    .dataframe thead th {\n",
       "        text-align: right;\n",
       "    }\n",
       "</style>\n",
       "<table border=\"1\" class=\"dataframe\">\n",
       "  <thead>\n",
       "    <tr style=\"text-align: right;\">\n",
       "      <th></th>\n",
       "      <th>type</th>\n",
       "      <th>posts</th>\n",
       "    </tr>\n",
       "  </thead>\n",
       "  <tbody>\n",
       "    <tr>\n",
       "      <td>0</td>\n",
       "      <td>INFP</td>\n",
       "      <td>1832</td>\n",
       "    </tr>\n",
       "    <tr>\n",
       "      <td>1</td>\n",
       "      <td>INFJ</td>\n",
       "      <td>1470</td>\n",
       "    </tr>\n",
       "    <tr>\n",
       "      <td>2</td>\n",
       "      <td>INTP</td>\n",
       "      <td>1304</td>\n",
       "    </tr>\n",
       "    <tr>\n",
       "      <td>3</td>\n",
       "      <td>INTJ</td>\n",
       "      <td>1091</td>\n",
       "    </tr>\n",
       "    <tr>\n",
       "      <td>4</td>\n",
       "      <td>ENTP</td>\n",
       "      <td>685</td>\n",
       "    </tr>\n",
       "    <tr>\n",
       "      <td>5</td>\n",
       "      <td>ENFP</td>\n",
       "      <td>675</td>\n",
       "    </tr>\n",
       "    <tr>\n",
       "      <td>6</td>\n",
       "      <td>ISTP</td>\n",
       "      <td>337</td>\n",
       "    </tr>\n",
       "    <tr>\n",
       "      <td>7</td>\n",
       "      <td>ISFP</td>\n",
       "      <td>271</td>\n",
       "    </tr>\n",
       "    <tr>\n",
       "      <td>8</td>\n",
       "      <td>ENTJ</td>\n",
       "      <td>231</td>\n",
       "    </tr>\n",
       "    <tr>\n",
       "      <td>9</td>\n",
       "      <td>ISTJ</td>\n",
       "      <td>205</td>\n",
       "    </tr>\n",
       "    <tr>\n",
       "      <td>10</td>\n",
       "      <td>ENFJ</td>\n",
       "      <td>190</td>\n",
       "    </tr>\n",
       "    <tr>\n",
       "      <td>11</td>\n",
       "      <td>ISFJ</td>\n",
       "      <td>166</td>\n",
       "    </tr>\n",
       "    <tr>\n",
       "      <td>12</td>\n",
       "      <td>ESTP</td>\n",
       "      <td>89</td>\n",
       "    </tr>\n",
       "    <tr>\n",
       "      <td>13</td>\n",
       "      <td>ESFP</td>\n",
       "      <td>48</td>\n",
       "    </tr>\n",
       "    <tr>\n",
       "      <td>14</td>\n",
       "      <td>ESFJ</td>\n",
       "      <td>42</td>\n",
       "    </tr>\n",
       "    <tr>\n",
       "      <td>15</td>\n",
       "      <td>ESTJ</td>\n",
       "      <td>39</td>\n",
       "    </tr>\n",
       "  </tbody>\n",
       "</table>\n",
       "</div>"
      ],
      "text/plain": [
       "    type  posts\n",
       "0   INFP   1832\n",
       "1   INFJ   1470\n",
       "2   INTP   1304\n",
       "3   INTJ   1091\n",
       "4   ENTP    685\n",
       "5   ENFP    675\n",
       "6   ISTP    337\n",
       "7   ISFP    271\n",
       "8   ENTJ    231\n",
       "9   ISTJ    205\n",
       "10  ENFJ    190\n",
       "11  ISFJ    166\n",
       "12  ESTP     89\n",
       "13  ESFP     48\n",
       "14  ESFJ     42\n",
       "15  ESTJ     39"
      ]
     },
     "execution_count": 76,
     "metadata": {},
     "output_type": "execute_result"
    }
   ],
   "source": [
    "type_count = df_raw.groupby('type').count().sort_values(by='posts', ascending=False).reset_index()\n",
    "type_count"
   ]
  },
  {
   "cell_type": "code",
   "execution_count": 9,
   "metadata": {},
   "outputs": [
    {
     "data": {
      "text/plain": [
       "list"
      ]
     },
     "execution_count": 9,
     "metadata": {},
     "output_type": "execute_result"
    }
   ],
   "source": [
    "type(hist_label)"
   ]
  },
  {
   "cell_type": "code",
   "execution_count": 10,
   "metadata": {},
   "outputs": [
    {
     "name": "stdout",
     "output_type": "stream",
     "text": [
      "['INFP', 'INFJ', 'INTP', 'INTJ', 'ENTP', 'ENFP', 'ISTP', 'ISFP', 'ENTJ', 'ISTJ', 'ENFJ', 'ISFJ', 'ESTP', 'ESFP', 'ESFJ', 'ESTJ']\n",
      "I\n"
     ]
    },
    {
     "data": {
      "text/plain": [
       "range(0, 16)"
      ]
     },
     "execution_count": 10,
     "metadata": {},
     "output_type": "execute_result"
    }
   ],
   "source": [
    "print(hist_label)\n",
    "print(hist_label[1][:1])\n",
    "range(len(hist_label))"
   ]
  },
  {
   "cell_type": "code",
   "execution_count": 77,
   "metadata": {},
   "outputs": [
    {
     "ename": "NameError",
     "evalue": "name 'color_by_ei' is not defined",
     "output_type": "error",
     "traceback": [
      "\u001b[0;31m---------------------------------------------------------------------------\u001b[0m",
      "\u001b[0;31mNameError\u001b[0m                                 Traceback (most recent call last)",
      "\u001b[0;32m<ipython-input-77-8cf0cd7fa085>\u001b[0m in \u001b[0;36m<module>\u001b[0;34m\u001b[0m\n\u001b[0;32m----> 1\u001b[0;31m \u001b[0mcolor_by_ei\u001b[0m\u001b[0;34m\u001b[0m\u001b[0;34m\u001b[0m\u001b[0m\n\u001b[0m",
      "\u001b[0;31mNameError\u001b[0m: name 'color_by_ei' is not defined"
     ]
    }
   ],
   "source": [
    "\n",
    "color_by_ei"
   ]
  },
  {
   "cell_type": "code",
   "execution_count": 79,
   "metadata": {},
   "outputs": [
    {
     "data": {
      "image/png": "[encoded data removed]",
      "text/plain": [
       "<Figure size 1000x600 with 1 Axes>"
      ]
     },
     "metadata": {},
     "output_type": "display_data"
    }
   ],
   "source": [
    "hist_data = list(type_count['posts'])\n",
    "hist_label = list(type_count['type'])\n",
    "ei_colors = ['red', 'blue']\n",
    "ei_legend = ['Introvert', 'Extrovert']\n",
    "color_by_ei = [ei_colors[hist_label[i][:1]==\"E\"] for i in range(len(hist_label))]\n",
    "y = np.arange(len(hist_data))\n",
    "\n",
    "width = 0.8\n",
    "\n",
    "fig, ax = plt.subplots(figsize = (10,6))\n",
    "ax.barh(y, hist_data, width, color = ['wheat'], align = 'center')\n",
    "# ax.barh(y, hist_data, width, color = color_by_ei, align = 'center')\n",
    "# ax.legend(ei_legend)\n",
    "\n",
    "ax.set_yticks(y)\n",
    "ax.set_yticklabels(hist_label, size=14)\n",
    "# ax.set_xticklabels(size=16)\n",
    "ax.xaxis.grid(True)\n",
    "ax.set_ylabel('MBTI Type', size=18, labelpad=12)\n",
    "ax.set_xlabel('Users on Website', size=18, labelpad=18)\n",
    "fig.tight_layout(pad=0)\n",
    "\n",
    "plt.show()"
   ]
  },
  {
   "cell_type": "markdown",
   "metadata": {},
   "source": [
    "# *'*'*'*'* Issue with Legend *'*'*'*'*"
   ]
  },
  {
   "cell_type": "code",
   "execution_count": 36,
   "metadata": {},
   "outputs": [
    {
     "data": {
      "text/plain": [
       "['ewtr', 'rtyr', 'uyio', 'rtyu', 'qwe', 'vbm']"
      ]
     },
     "execution_count": 36,
     "metadata": {},
     "output_type": "execute_result"
    }
   ],
   "source": [
    "asdf = ['ewtr', 'rtyr', 'uyio']\n",
    "erty = ['rtyu', 'qwe', 'vbm']\n",
    "gfhj = []\n",
    "vbcn = asdf + erty + gfhj\n",
    "vbcn"
   ]
  },
  {
   "cell_type": "code",
   "execution_count": 39,
   "metadata": {},
   "outputs": [
    {
     "data": {
      "text/plain": [
       "'!\"#$%&\\'()*+,-./:;<=>?@[\\\\]^_`{|}~'"
      ]
     },
     "execution_count": 39,
     "metadata": {},
     "output_type": "execute_result"
    }
   ],
   "source": [
    "from string import punctuation\n",
    "punctuation"
   ]
  },
  {
   "cell_type": "code",
   "execution_count": 41,
   "metadata": {},
   "outputs": [
    {
     "data": {
      "text/plain": [
       "\"'http://www.youtube.com/watch?v=qsXHcwe3krw|||http://41.media.tumblr.com/tumblr_lfouy03PMA1qa1rooo1_500.jpg|||enfp and intj moments  https://www.youtube.com/watch?v=iz7lE1g4XM4  sportscenter not top ten plays  https://www.youtube.com/watch?v=uCdfze1etec  pranks|||What has been the most life-changing experience in your life?|||http://www.youtube.com/watch?v=vXZeYwwRDw8   http://www.youtube.com/watch?v=u8ejam5DP3E  On repeat for most of today.|||May the PerC Experience immerse you.|||The last thing my INFJ friend posted on his facebook before committing suicide the next day. Rest in peace~   http://vimeo.com/22842206|||Hello ENFJ7. Sorry to hear of your distress. It's only natural for a relationship to not be perfection all the time in every moment of existence. Try to figure the hard times as times of growth, as...|||84389  84390  http://wallpaperpassion.com/upload/23700/friendship-boy-and-girl-wallpaper.jpg  http://assets.dornob.com/wp-content/uploads/2010/04/round-home-design.jpg ...|||Welcome and stuff.|||http://playeressence.com/wp-content/uploads/2013/08/RED-red-the-pokemon-master-32560474-450-338.jpg  Game. Set. Match.|||Prozac, wellbrutin, at least thirty minutes of moving your legs (and I don't mean moving them while sitting in your same desk chair), weed in moderation (maybe try edibles as a healthier alternative...|||Basically come up with three items you've determined that each type (or whichever types you want to do) would more than likely use, given each types' cognitive functions and whatnot, when left by...|||All things in moderation.  Sims is indeed a video game, and a good one at that. Note: a good one at that is somewhat subjective in that I am not completely promoting the death of any given Sim...|||Dear ENFP:  What were your favorite video games growing up and what are your now, current favorite video games? :cool:|||https://www.youtube.com/watch?v=QyPqT8umzmY|||It appears to be too late. :sad:|||There's someone out there for everyone.|||Wait... I thought confidence was a good thing.|||I just cherish the time of solitude b/c i revel within my inner world more whereas most other time i'd be workin... just enjoy the me time while you can. Don't worry, people will always be around to...|||Yo entp ladies... if you're into a complimentary personality,well, hey.|||... when your main social outlet is xbox live conversations and even then you verbally fatigue quickly.|||http://www.youtube.com/watch?v=gDhy7rdfm14  I really dig the part from 1:46 to 2:50|||http://www.youtube.com/watch?v=msqXffgh7b8|||Banned because this thread requires it of me.|||Get high in backyard, roast and eat marshmellows in backyard while conversing over something intellectual, followed by massages and kisses.|||http://www.youtube.com/watch?v=Mw7eoU3BMbE|||http://www.youtube.com/watch?v=4V2uYORhQOk|||http://www.youtube.com/watch?v=SlVmgFQQ0TI|||Banned for too many b's in that sentence. How could you! Think of the B!|||Banned for watching movies in the corner with the dunces.|||Banned because Health class clearly taught you nothing about peer pressure.|||Banned for a whole host of reasons!|||http://www.youtube.com/watch?v=IRcrv41hgz4|||1) Two baby deer on left and right munching on a beetle in the middle.  2) Using their own blood, two cavemen diary today's latest happenings on their designated cave diary wall.  3) I see it as...|||a pokemon world  an infj society  everyone becomes an optimist|||49142|||http://www.youtube.com/watch?v=ZRCEq_JFeFM|||http://discovermagazine.com/2012/jul-aug/20-things-you-didnt-know-about-deserts/desert.jpg|||http://oyster.ignimgs.com/mediawiki/apis.ign.com/pokemon-silver-version/d/dd/Ditto.gif|||http://www.serebii.net/potw-dp/Scizor.jpg|||Not all artists are artists because they draw. It's the idea that counts in forming something of your own... like a signature.|||Welcome to the robot ranks, person who downed my self-esteem cuz I'm not an avid signature artist like herself. :proud:|||Banned for taking all the room under my bed. Ya gotta learn to share with the roaches.|||http://www.youtube.com/watch?v=w8IgImn57aQ|||Banned for being too much of a thundering, grumbling kind of storm... yep.|||Ahh... old high school music I haven't heard in ages.   http://www.youtube.com/watch?v=dcCRUPCdB1w|||I failed a public speaking class a few years ago and I've sort of learned what I could do better were I to be in that position again. A big part of my failure was just overloading myself with too...|||I like this person's mentality. He's a confirmed INTJ by the way. http://www.youtube.com/watch?v=hGKLI-GEc6M|||Move to the Denver area and start a new life for myself.'\""
      ]
     },
     "execution_count": 41,
     "metadata": {},
     "output_type": "execute_result"
    }
   ],
   "source": [
    "txt_raw = df_raw['posts'][0]\n",
    "txt_raw"
   ]
  },
  {
   "cell_type": "code",
   "execution_count": 43,
   "metadata": {},
   "outputs": [
    {
     "data": {
      "text/plain": [
       "21"
      ]
     },
     "execution_count": 43,
     "metadata": {},
     "output_type": "execute_result"
    }
   ],
   "source": [
    "link_count = txt_raw.count('http://')\n",
    "link_count"
   ]
  },
  {
   "cell_type": "code",
   "execution_count": 21,
   "metadata": {},
   "outputs": [],
   "source": [
    "def lowercase_text(text):\n",
    "    return text.lower()"
   ]
  },
  {
   "cell_type": "code",
   "execution_count": 25,
   "metadata": {},
   "outputs": [
    {
     "data": {
      "text/plain": [
       "\"'http://www.youtube.com/watch?v=qsxhcwe3krw|||http://41.media.tumblr.com/tumblr_lfouy03pma1qa1rooo1_500.jpg|||enfp and intj moments  https://www.youtube.com/watch?v=iz7le1g4xm4  sportscenter not top ten plays  https://www.youtube.com/watch?v=ucdfze1etec  pranks|||what has been the most life-changing experience in your life?|||http://www.youtube.com/watch?v=vxzeywwrdw8   http://www.youtube.com/watch?v=u8ejam5dp3e  on repeat for most of today.|||may the perc experience immerse you.|||the last thing my infj friend posted on his facebook before committing suicide the next day. rest in peace~   http://vimeo.com/22842206|||hello enfj7. sorry to hear of your distress. it's only natural for a relationship to not be perfection all the time in every moment of existence. try to figure the hard times as times of growth, as...|||84389  84390  http://wallpaperpassion.com/upload/23700/friendship-boy-and-girl-wallpaper.jpg  http://assets.dornob.com/wp-content/uploads/2010/04/round-home-design.jpg ...|||welcome and stuff.|||http://playeressence.com/wp-content/uploads/2013/08/red-red-the-pokemon-master-32560474-450-338.jpg  game. set. match.|||prozac, wellbrutin, at least thirty minutes of moving your legs (and i don't mean moving them while sitting in your same desk chair), weed in moderation (maybe try edibles as a healthier alternative...|||basically come up with three items you've determined that each type (or whichever types you want to do) would more than likely use, given each types' cognitive functions and whatnot, when left by...|||all things in moderation.  sims is indeed a video game, and a good one at that. note: a good one at that is somewhat subjective in that i am not completely promoting the death of any given sim...|||dear enfp:  what were your favorite video games growing up and what are your now, current favorite video games? :cool:|||https://www.youtube.com/watch?v=qypqt8umzmy|||it appears to be too late. :sad:|||there's someone out there for everyone.|||wait... i thought confidence was a good thing.|||i just cherish the time of solitude b/c i revel within my inner world more whereas most other time i'd be workin... just enjoy the me time while you can. don't worry, people will always be around to...|||yo entp ladies... if you're into a complimentary personality,well, hey.|||... when your main social outlet is xbox live conversations and even then you verbally fatigue quickly.|||http://www.youtube.com/watch?v=gdhy7rdfm14  i really dig the part from 1:46 to 2:50|||http://www.youtube.com/watch?v=msqxffgh7b8|||banned because this thread requires it of me.|||get high in backyard, roast and eat marshmellows in backyard while conversing over something intellectual, followed by massages and kisses.|||http://www.youtube.com/watch?v=mw7eou3bmbe|||http://www.youtube.com/watch?v=4v2uyorhqok|||http://www.youtube.com/watch?v=slvmgfqq0ti|||banned for too many b's in that sentence. how could you! think of the b!|||banned for watching movies in the corner with the dunces.|||banned because health class clearly taught you nothing about peer pressure.|||banned for a whole host of reasons!|||http://www.youtube.com/watch?v=ircrv41hgz4|||1) two baby deer on left and right munching on a beetle in the middle.  2) using their own blood, two cavemen diary today's latest happenings on their designated cave diary wall.  3) i see it as...|||a pokemon world  an infj society  everyone becomes an optimist|||49142|||http://www.youtube.com/watch?v=zrceq_jfefm|||http://discovermagazine.com/2012/jul-aug/20-things-you-didnt-know-about-deserts/desert.jpg|||http://oyster.ignimgs.com/mediawiki/apis.ign.com/pokemon-silver-version/d/dd/ditto.gif|||http://www.serebii.net/potw-dp/scizor.jpg|||not all artists are artists because they draw. it's the idea that counts in forming something of your own... like a signature.|||welcome to the robot ranks, person who downed my self-esteem cuz i'm not an avid signature artist like herself. :proud:|||banned for taking all the room under my bed. ya gotta learn to share with the roaches.|||http://www.youtube.com/watch?v=w8igimn57aq|||banned for being too much of a thundering, grumbling kind of storm... yep.|||ahh... old high school music i haven't heard in ages.   http://www.youtube.com/watch?v=dccrupcdb1w|||i failed a public speaking class a few years ago and i've sort of learned what i could do better were i to be in that position again. a big part of my failure was just overloading myself with too...|||i like this person's mentality. he's a confirmed intj by the way. http://www.youtube.com/watch?v=hgkli-gec6m|||move to the denver area and start a new life for myself.'\""
      ]
     },
     "execution_count": 25,
     "metadata": {},
     "output_type": "execute_result"
    }
   ],
   "source": [
    "txt_rw_lw = lowercase_text(raw_text)\n",
    "txt_rw_lw"
   ]
  },
  {
   "cell_type": "code",
   "execution_count": 31,
   "metadata": {},
   "outputs": [],
   "source": [
    "def split_text_by_delim(text, delim=' '):\n",
    "    return text.split(delim)"
   ]
  },
  {
   "cell_type": "code",
   "execution_count": 35,
   "metadata": {},
   "outputs": [
    {
     "data": {
      "text/plain": [
       "50"
      ]
     },
     "execution_count": 35,
     "metadata": {},
     "output_type": "execute_result"
    }
   ],
   "source": [
    "txt_posts = split_text_by_delim(txt_rw_lw, '|||')\n",
    "len(txt_posts)"
   ]
  },
  {
   "cell_type": "code",
   "execution_count": 36,
   "metadata": {},
   "outputs": [
    {
     "data": {
      "text/plain": [
       "[\"'http://www.youtube.com/watch?v=qsxhcwe3krw\",\n",
       " 'http://41.media.tumblr.com/tumblr_lfouy03pma1qa1rooo1_500.jpg',\n",
       " 'enfp and intj moments  https://www.youtube.com/watch?v=iz7le1g4xm4  sportscenter not top ten plays  https://www.youtube.com/watch?v=ucdfze1etec  pranks',\n",
       " 'what has been the most life-changing experience in your life?',\n",
       " 'http://www.youtube.com/watch?v=vxzeywwrdw8   http://www.youtube.com/watch?v=u8ejam5dp3e  on repeat for most of today.',\n",
       " 'may the perc experience immerse you.',\n",
       " 'the last thing my infj friend posted on his facebook before committing suicide the next day. rest in peace~   http://vimeo.com/22842206',\n",
       " \"hello enfj7. sorry to hear of your distress. it's only natural for a relationship to not be perfection all the time in every moment of existence. try to figure the hard times as times of growth, as...\",\n",
       " '84389  84390  http://wallpaperpassion.com/upload/23700/friendship-boy-and-girl-wallpaper.jpg  http://assets.dornob.com/wp-content/uploads/2010/04/round-home-design.jpg ...',\n",
       " 'welcome and stuff.',\n",
       " 'http://playeressence.com/wp-content/uploads/2013/08/red-red-the-pokemon-master-32560474-450-338.jpg  game. set. match.',\n",
       " \"prozac, wellbrutin, at least thirty minutes of moving your legs (and i don't mean moving them while sitting in your same desk chair), weed in moderation (maybe try edibles as a healthier alternative...\",\n",
       " \"basically come up with three items you've determined that each type (or whichever types you want to do) would more than likely use, given each types' cognitive functions and whatnot, when left by...\",\n",
       " 'all things in moderation.  sims is indeed a video game, and a good one at that. note: a good one at that is somewhat subjective in that i am not completely promoting the death of any given sim...',\n",
       " 'dear enfp:  what were your favorite video games growing up and what are your now, current favorite video games? :cool:',\n",
       " 'https://www.youtube.com/watch?v=qypqt8umzmy',\n",
       " 'it appears to be too late. :sad:',\n",
       " \"there's someone out there for everyone.\",\n",
       " 'wait... i thought confidence was a good thing.',\n",
       " \"i just cherish the time of solitude b/c i revel within my inner world more whereas most other time i'd be workin... just enjoy the me time while you can. don't worry, people will always be around to...\",\n",
       " \"yo entp ladies... if you're into a complimentary personality,well, hey.\",\n",
       " '... when your main social outlet is xbox live conversations and even then you verbally fatigue quickly.',\n",
       " 'http://www.youtube.com/watch?v=gdhy7rdfm14  i really dig the part from 1:46 to 2:50',\n",
       " 'http://www.youtube.com/watch?v=msqxffgh7b8',\n",
       " 'banned because this thread requires it of me.',\n",
       " 'get high in backyard, roast and eat marshmellows in backyard while conversing over something intellectual, followed by massages and kisses.',\n",
       " 'http://www.youtube.com/watch?v=mw7eou3bmbe',\n",
       " 'http://www.youtube.com/watch?v=4v2uyorhqok',\n",
       " 'http://www.youtube.com/watch?v=slvmgfqq0ti',\n",
       " \"banned for too many b's in that sentence. how could you! think of the b!\",\n",
       " 'banned for watching movies in the corner with the dunces.',\n",
       " 'banned because health class clearly taught you nothing about peer pressure.',\n",
       " 'banned for a whole host of reasons!',\n",
       " 'http://www.youtube.com/watch?v=ircrv41hgz4',\n",
       " \"1) two baby deer on left and right munching on a beetle in the middle.  2) using their own blood, two cavemen diary today's latest happenings on their designated cave diary wall.  3) i see it as...\",\n",
       " 'a pokemon world  an infj society  everyone becomes an optimist',\n",
       " '49142',\n",
       " 'http://www.youtube.com/watch?v=zrceq_jfefm',\n",
       " 'http://discovermagazine.com/2012/jul-aug/20-things-you-didnt-know-about-deserts/desert.jpg',\n",
       " 'http://oyster.ignimgs.com/mediawiki/apis.ign.com/pokemon-silver-version/d/dd/ditto.gif',\n",
       " 'http://www.serebii.net/potw-dp/scizor.jpg',\n",
       " \"not all artists are artists because they draw. it's the idea that counts in forming something of your own... like a signature.\",\n",
       " \"welcome to the robot ranks, person who downed my self-esteem cuz i'm not an avid signature artist like herself. :proud:\",\n",
       " 'banned for taking all the room under my bed. ya gotta learn to share with the roaches.',\n",
       " 'http://www.youtube.com/watch?v=w8igimn57aq',\n",
       " 'banned for being too much of a thundering, grumbling kind of storm... yep.',\n",
       " \"ahh... old high school music i haven't heard in ages.   http://www.youtube.com/watch?v=dccrupcdb1w\",\n",
       " \"i failed a public speaking class a few years ago and i've sort of learned what i could do better were i to be in that position again. a big part of my failure was just overloading myself with too...\",\n",
       " \"i like this person's mentality. he's a confirmed intj by the way. http://www.youtube.com/watch?v=hgkli-gec6m\",\n",
       " \"move to the denver area and start a new life for myself.'\"]"
      ]
     },
     "execution_count": 36,
     "metadata": {},
     "output_type": "execute_result"
    }
   ],
   "source": [
    "txt_posts"
   ]
  },
  {
   "cell_type": "markdown",
   "metadata": {},
   "source": [
    "# count of char by post"
   ]
  },
  {
   "cell_type": "code",
   "execution_count": 100,
   "metadata": {},
   "outputs": [],
   "source": [
    "def post_tot_word_char_count(text_list):\n",
    "    '''\n",
    "    Counts number of words and characters in a list of text lines \n",
    "    \n",
    "    Parameters: \n",
    "    text_list (str): list of text strings \n",
    "  \n",
    "    Returns: \n",
    "    words: list of word count by source list item\n",
    "    chars: list of character count by source list item\n",
    "    '''\n",
    "    words = []\n",
    "    chars = []\n",
    "    for post in range(len(text_list)):\n",
    "        words.append(len(txt_posts[post].split(\" \")))\n",
    "        chars.append(len(txt_posts[post]))\n",
    "    return zip(words, chars)"
   ]
  },
  {
   "cell_type": "code",
   "execution_count": null,
   "metadata": {},
   "outputs": [],
   "source": [
    "user1 = post_word_char_count(txt_posts)\n",
    "list(user1)"
   ]
  },
  {
   "cell_type": "code",
   "execution_count": 104,
   "metadata": {},
   "outputs": [],
   "source": [
    "def post_unique_word_count(text_list):\n",
    "    post_tot_word_char_count(text_list):\n",
    "    '''\n",
    "    Counts number of unique words in a list of text lines \n",
    "    \n",
    "    Parameters: \n",
    "    text_list (str): list of text strings \n",
    "  \n",
    "    Returns: \n",
    "    words: list of word count by source list item\n",
    "    '''\n",
    "    pass"
   ]
  },
  {
   "cell_type": "code",
   "execution_count": null,
   "metadata": {},
   "outputs": [],
   "source": []
  },
  {
   "cell_type": "code",
   "execution_count": null,
   "metadata": {},
   "outputs": [],
   "source": []
  },
  {
   "cell_type": "code",
   "execution_count": null,
   "metadata": {},
   "outputs": [],
   "source": [
    "def user_char_count():"
   ]
  },
  {
   "cell_type": "code",
   "execution_count": 46,
   "metadata": {},
   "outputs": [
    {
     "name": "stdout",
     "output_type": "stream",
     "text": [
      "hello enfj7. sorry to hear of your distress. it's only natural for a relationship to not be perfection all the time in every moment of existence. try to figure the hard times as times of growth, as...\n"
     ]
    },
    {
     "data": {
      "text/plain": [
       "False"
      ]
     },
     "execution_count": 46,
     "metadata": {},
     "output_type": "execute_result"
    }
   ],
   "source": [
    "sample = txt_posts[7]\n",
    "print(sample)\n",
    "\"http://v\" in sample"
   ]
  },
  {
   "cell_type": "markdown",
   "metadata": {},
   "source": [
    "# Flag for links"
   ]
  },
  {
   "cell_type": "code",
   "execution_count": 55,
   "metadata": {},
   "outputs": [
    {
     "data": {
      "text/plain": [
       "[True,\n",
       " True,\n",
       " True,\n",
       " False,\n",
       " True,\n",
       " False,\n",
       " True,\n",
       " False,\n",
       " True,\n",
       " False,\n",
       " True,\n",
       " False,\n",
       " False,\n",
       " False,\n",
       " False,\n",
       " True,\n",
       " False,\n",
       " False,\n",
       " False,\n",
       " False,\n",
       " False,\n",
       " False,\n",
       " True,\n",
       " True,\n",
       " False,\n",
       " False,\n",
       " True,\n",
       " True,\n",
       " True,\n",
       " False,\n",
       " False,\n",
       " False,\n",
       " False,\n",
       " True,\n",
       " False,\n",
       " False,\n",
       " False,\n",
       " True,\n",
       " True,\n",
       " True,\n",
       " True,\n",
       " False,\n",
       " False,\n",
       " False,\n",
       " True,\n",
       " False,\n",
       " True,\n",
       " False,\n",
       " True,\n",
       " False]"
      ]
     },
     "execution_count": 55,
     "metadata": {},
     "output_type": "execute_result"
    }
   ],
   "source": [
    "link_flag = []\n",
    "[link_flag.append('http' in txt_posts[i]) for i in range(len(txt_posts))]\n",
    "link_flag"
   ]
  },
  {
   "cell_type": "code",
   "execution_count": 59,
   "metadata": {},
   "outputs": [
    {
     "ename": "SyntaxError",
     "evalue": "invalid syntax (<ipython-input-59-2932f92f40f1>, line 3)",
     "output_type": "error",
     "traceback": [
      "\u001b[0;36m  File \u001b[0;32m\"<ipython-input-59-2932f92f40f1>\"\u001b[0;36m, line \u001b[0;32m3\u001b[0m\n\u001b[0;31m    all_flags = link_flag.append('http' in text[i]) for i in range(len(text))\u001b[0m\n\u001b[0m                                                      ^\u001b[0m\n\u001b[0;31mSyntaxError\u001b[0m\u001b[0;31m:\u001b[0m invalid syntax\n"
     ]
    }
   ],
   "source": [
    "def post_contains_links(text):\n",
    "    link_flag = []\n",
    "    all_flags = [link_flag.append('http' in text[i]) for i in range(len(text))]\n",
    "    return all_flags\n",
    "\n",
    "post_link_flag = post_contains_links(txt_posts)\n",
    "post_link_flag"
   ]
  },
  {
   "cell_type": "code",
   "execution_count": 67,
   "metadata": {},
   "outputs": [
    {
     "name": "stdout",
     "output_type": "stream",
     "text": [
      "None\n"
     ]
    },
    {
     "data": {
      "text/plain": [
       "[\"'http://www.youtube.com/watch?v=qsxhcwe3krw\",\n",
       " 'http://41.media.tumblr.com/tumblr_lfouy03pma1qa1rooo1_500.jpg',\n",
       " 'enfp and intj moments  https://www.youtube.com/watch?v=iz7le1g4xm4  sportscenter not top ten plays  https://www.youtube.com/watch?v=ucdfze1etec  pranks',\n",
       " 'what has been the most life-changing experience in your life?',\n",
       " 'http://www.youtube.com/watch?v=vxzeywwrdw8   http://www.youtube.com/watch?v=u8ejam5dp3e  on repeat for most of today.',\n",
       " 'may the perc experience immerse you.',\n",
       " 'the last thing my infj friend posted on his facebook before committing suicide the next day. rest in peace~   http://vimeo.com/22842206',\n",
       " \"hello enfj7. sorry to hear of your distress. it's only natural for a relationship to not be perfection all the time in every moment of existence. try to figure the hard times as times of growth, as...\",\n",
       " '84389  84390  http://wallpaperpassion.com/upload/23700/friendship-boy-and-girl-wallpaper.jpg  http://assets.dornob.com/wp-content/uploads/2010/04/round-home-design.jpg ...',\n",
       " 'welcome and stuff.',\n",
       " 'http://playeressence.com/wp-content/uploads/2013/08/red-red-the-pokemon-master-32560474-450-338.jpg  game. set. match.',\n",
       " \"prozac, wellbrutin, at least thirty minutes of moving your legs (and i don't mean moving them while sitting in your same desk chair), weed in moderation (maybe try edibles as a healthier alternative...\",\n",
       " \"basically come up with three items you've determined that each type (or whichever types you want to do) would more than likely use, given each types' cognitive functions and whatnot, when left by...\",\n",
       " 'all things in moderation.  sims is indeed a video game, and a good one at that. note: a good one at that is somewhat subjective in that i am not completely promoting the death of any given sim...',\n",
       " 'dear enfp:  what were your favorite video games growing up and what are your now, current favorite video games? :cool:',\n",
       " 'https://www.youtube.com/watch?v=qypqt8umzmy',\n",
       " 'it appears to be too late. :sad:',\n",
       " \"there's someone out there for everyone.\",\n",
       " 'wait... i thought confidence was a good thing.',\n",
       " \"i just cherish the time of solitude b/c i revel within my inner world more whereas most other time i'd be workin... just enjoy the me time while you can. don't worry, people will always be around to...\",\n",
       " \"yo entp ladies... if you're into a complimentary personality,well, hey.\",\n",
       " '... when your main social outlet is xbox live conversations and even then you verbally fatigue quickly.',\n",
       " 'http://www.youtube.com/watch?v=gdhy7rdfm14  i really dig the part from 1:46 to 2:50',\n",
       " 'http://www.youtube.com/watch?v=msqxffgh7b8',\n",
       " 'banned because this thread requires it of me.',\n",
       " 'get high in backyard, roast and eat marshmellows in backyard while conversing over something intellectual, followed by massages and kisses.',\n",
       " 'http://www.youtube.com/watch?v=mw7eou3bmbe',\n",
       " 'http://www.youtube.com/watch?v=4v2uyorhqok',\n",
       " 'http://www.youtube.com/watch?v=slvmgfqq0ti',\n",
       " \"banned for too many b's in that sentence. how could you! think of the b!\",\n",
       " 'banned for watching movies in the corner with the dunces.',\n",
       " 'banned because health class clearly taught you nothing about peer pressure.',\n",
       " 'banned for a whole host of reasons!',\n",
       " 'http://www.youtube.com/watch?v=ircrv41hgz4',\n",
       " \"1) two baby deer on left and right munching on a beetle in the middle.  2) using their own blood, two cavemen diary today's latest happenings on their designated cave diary wall.  3) i see it as...\",\n",
       " 'a pokemon world  an infj society  everyone becomes an optimist',\n",
       " '49142',\n",
       " 'http://www.youtube.com/watch?v=zrceq_jfefm',\n",
       " 'http://discovermagazine.com/2012/jul-aug/20-things-you-didnt-know-about-deserts/desert.jpg',\n",
       " 'http://oyster.ignimgs.com/mediawiki/apis.ign.com/pokemon-silver-version/d/dd/ditto.gif',\n",
       " 'http://www.serebii.net/potw-dp/scizor.jpg',\n",
       " \"not all artists are artists because they draw. it's the idea that counts in forming something of your own... like a signature.\",\n",
       " \"welcome to the robot ranks, person who downed my self-esteem cuz i'm not an avid signature artist like herself. :proud:\",\n",
       " 'banned for taking all the room under my bed. ya gotta learn to share with the roaches.',\n",
       " 'http://www.youtube.com/watch?v=w8igimn57aq',\n",
       " 'banned for being too much of a thundering, grumbling kind of storm... yep.',\n",
       " \"ahh... old high school music i haven't heard in ages.   http://www.youtube.com/watch?v=dccrupcdb1w\",\n",
       " \"i failed a public speaking class a few years ago and i've sort of learned what i could do better were i to be in that position again. a big part of my failure was just overloading myself with too...\",\n",
       " \"i like this person's mentality. he's a confirmed intj by the way. http://www.youtube.com/watch?v=hgkli-gec6m\",\n",
       " \"move to the denver area and start a new life for myself.'\"]"
      ]
     },
     "execution_count": 67,
     "metadata": {},
     "output_type": "execute_result"
    }
   ],
   "source": [
    "def remove_punctuation(text, punctuation=punctuation):\n",
    "    post_list = []\n",
    "    for a in range(len(text)):\n",
    "        return post_list.append(''.join([c for c in text if c not in punctuation]))\n",
    "    \n",
    "\n",
    "txt_rw_lw_np = remove_punctuation(txt_posts, punctuation=punctuation)\n",
    "print(txt_rw_lw_np)\n",
    "txt_posts\n",
    "\n"
   ]
  },
  {
   "cell_type": "code",
   "execution_count": null,
   "metadata": {},
   "outputs": [],
   "source": []
  },
  {
   "cell_type": "code",
   "execution_count": null,
   "metadata": {},
   "outputs": [],
   "source": []
  },
  {
   "cell_type": "code",
   "execution_count": null,
   "metadata": {},
   "outputs": [],
   "source": []
  },
  {
   "cell_type": "code",
   "execution_count": null,
   "metadata": {},
   "outputs": [],
   "source": []
  },
  {
   "cell_type": "code",
   "execution_count": 27,
   "metadata": {},
   "outputs": [],
   "source": []
  },
  {
   "cell_type": "code",
   "execution_count": null,
   "metadata": {},
   "outputs": [],
   "source": []
  },
  {
   "cell_type": "code",
   "execution_count": null,
   "metadata": {},
   "outputs": [],
   "source": [
    "def remove_newline(text):\n",
    "    return text.replace('\\n', '')"
   ]
  },
  {
   "cell_type": "code",
   "execution_count": null,
   "metadata": {},
   "outputs": [],
   "source": [
    "def remove_stopwords(word_lst, stopwords_set):\n",
    "    return [word for word in word_lst if word not in stopwords_set]"
   ]
  },
  {
   "cell_type": "code",
   "execution_count": null,
   "metadata": {},
   "outputs": [],
   "source": [
    "def replace_names(word_lst, name_set, replacement_val):\n",
    "    word_lst_with_replacement = [] \n",
    "    for word in word_lst:\n",
    "        if word in name_set:\n",
    "            val = replacement_val\n",
    "        else:\n",
    "            val = word\n",
    "        word_lst_with_replacement.append(val)\n",
    "    return word_lst_with_replacement"
   ]
  },
  {
   "cell_type": "code",
   "execution_count": null,
   "metadata": {},
   "outputs": [],
   "source": [
    "def create_cleaned_textline_from_words(words):\n",
    "    text = ' '.join([word for word in words])\n",
    "    return text"
   ]
  },
  {
   "cell_type": "code",
   "execution_count": null,
   "metadata": {},
   "outputs": [],
   "source": [
    "def line_cleaning_pipeline(text, stopwords_set, name_set, replace_val):\n",
    "    text_lc = lowercase_text(text)\n",
    "    text_np = remove_punctuation(text_lc)\n",
    "    text_nnl = remove_newline(text_np)\n",
    "    words = split_text_into_words(text_nnl)\n",
    "    words_nsw = remove_stopwords(words, stopwords_set)\n",
    "    words_cleaned = replace_names(words_nsw, name_set, replace_val) \n",
    "    line_of_text_cleaned = create_cleaned_textline_from_words(words_cleaned)\n",
    "    return line_of_text_cleaned"
   ]
  },
  {
   "cell_type": "markdown",
   "metadata": {},
   "source": [
    "# Mean & SD of length of post (char) by MB type"
   ]
  },
  {
   "cell_type": "code",
   "execution_count": 2,
   "metadata": {},
   "outputs": [
    {
     "data": {
      "text/html": [
       "<div>\n",
       "<style scoped>\n",
       "    .dataframe tbody tr th:only-of-type {\n",
       "        vertical-align: middle;\n",
       "    }\n",
       "\n",
       "    .dataframe tbody tr th {\n",
       "        vertical-align: top;\n",
       "    }\n",
       "\n",
       "    .dataframe thead th {\n",
       "        text-align: right;\n",
       "    }\n",
       "</style>\n",
       "<table border=\"1\" class=\"dataframe\">\n",
       "  <thead>\n",
       "    <tr style=\"text-align: right;\">\n",
       "      <th></th>\n",
       "      <th>type</th>\n",
       "      <th>posts</th>\n",
       "    </tr>\n",
       "  </thead>\n",
       "  <tbody>\n",
       "    <tr>\n",
       "      <td>0</td>\n",
       "      <td>INFJ</td>\n",
       "      <td>'http://www.youtube.com/watch?v=qsXHcwe3krw|||...</td>\n",
       "    </tr>\n",
       "    <tr>\n",
       "      <td>1</td>\n",
       "      <td>ENTP</td>\n",
       "      <td>'I'm finding the lack of me in these posts ver...</td>\n",
       "    </tr>\n",
       "    <tr>\n",
       "      <td>2</td>\n",
       "      <td>INTP</td>\n",
       "      <td>'Good one  _____   https://www.youtube.com/wat...</td>\n",
       "    </tr>\n",
       "    <tr>\n",
       "      <td>3</td>\n",
       "      <td>INTJ</td>\n",
       "      <td>'Dear INTP,   I enjoyed our conversation the o...</td>\n",
       "    </tr>\n",
       "    <tr>\n",
       "      <td>4</td>\n",
       "      <td>ENTJ</td>\n",
       "      <td>'You're fired.|||That's another silly misconce...</td>\n",
       "    </tr>\n",
       "  </tbody>\n",
       "</table>\n",
       "</div>"
      ],
      "text/plain": [
       "   type                                              posts\n",
       "0  INFJ  'http://www.youtube.com/watch?v=qsXHcwe3krw|||...\n",
       "1  ENTP  'I'm finding the lack of me in these posts ver...\n",
       "2  INTP  'Good one  _____   https://www.youtube.com/wat...\n",
       "3  INTJ  'Dear INTP,   I enjoyed our conversation the o...\n",
       "4  ENTJ  'You're fired.|||That's another silly misconce..."
      ]
     },
     "execution_count": 2,
     "metadata": {},
     "output_type": "execute_result"
    }
   ],
   "source": [
    "df_raw = pd.read_csv('../data/mbti_1.csv')\n",
    "df_raw.head(5)"
   ]
  },
  {
   "cell_type": "code",
   "execution_count": 3,
   "metadata": {},
   "outputs": [
    {
     "data": {
      "text/plain": [
       "\"http://www.youtube.com/watch?v=qsXHcwe3krw|||http://41.media.tumblr.com/tumblr_lfouy03PMA1qa1rooo1_500.jpg|||enfp and intj moments  https://www.youtube.com/watch?v=iz7lE1g4XM4  sportscenter not top ten plays  https://www.youtube.com/watch?v=uCdfze1etec  pranks|||What has been the most life-changing experience in your life?|||http://www.youtube.com/watch?v=vXZeYwwRDw8   http://www.youtube.com/watch?v=u8ejam5DP3E  On repeat for most of today.|||May the PerC Experience immerse you.|||The last thing my INFJ friend posted on his facebook before committing suicide the next day. Rest in peace~   http://vimeo.com/22842206|||Hello ENFJ7. Sorry to hear of your distress. It's only natural for a relationship to not be perfection all the time in every moment of existence. Try to figure the hard times as times of growth, as...|||84389  84390  http://wallpaperpassion.com/upload/23700/friendship-boy-and-girl-wallpaper.jpg  http://assets.dornob.com/wp-content/uploads/2010/04/round-home-design.jpg ...|||Welcome and stuff.|||http://playeressence.com/wp-content/uploads/2013/08/RED-red-the-pokemon-master-32560474-450-338.jpg  Game. Set. Match.|||Prozac, wellbrutin, at least thirty minutes of moving your legs (and I don't mean moving them while sitting in your same desk chair), weed in moderation (maybe try edibles as a healthier alternative...|||Basically come up with three items you've determined that each type (or whichever types you want to do) would more than likely use, given each types' cognitive functions and whatnot, when left by...|||All things in moderation.  Sims is indeed a video game, and a good one at that. Note: a good one at that is somewhat subjective in that I am not completely promoting the death of any given Sim...|||Dear ENFP:  What were your favorite video games growing up and what are your now, current favorite video games? :cool:|||https://www.youtube.com/watch?v=QyPqT8umzmY|||It appears to be too late. :sad:|||There's someone out there for everyone.|||Wait... I thought confidence was a good thing.|||I just cherish the time of solitude b/c i revel within my inner world more whereas most other time i'd be workin... just enjoy the me time while you can. Don't worry, people will always be around to...|||Yo entp ladies... if you're into a complimentary personality,well, hey.|||... when your main social outlet is xbox live conversations and even then you verbally fatigue quickly.|||http://www.youtube.com/watch?v=gDhy7rdfm14  I really dig the part from 1:46 to 2:50|||http://www.youtube.com/watch?v=msqXffgh7b8|||Banned because this thread requires it of me.|||Get high in backyard, roast and eat marshmellows in backyard while conversing over something intellectual, followed by massages and kisses.|||http://www.youtube.com/watch?v=Mw7eoU3BMbE|||http://www.youtube.com/watch?v=4V2uYORhQOk|||http://www.youtube.com/watch?v=SlVmgFQQ0TI|||Banned for too many b's in that sentence. How could you! Think of the B!|||Banned for watching movies in the corner with the dunces.|||Banned because Health class clearly taught you nothing about peer pressure.|||Banned for a whole host of reasons!|||http://www.youtube.com/watch?v=IRcrv41hgz4|||1) Two baby deer on left and right munching on a beetle in the middle.  2) Using their own blood, two cavemen diary today's latest happenings on their designated cave diary wall.  3) I see it as...|||a pokemon world  an infj society  everyone becomes an optimist|||49142|||http://www.youtube.com/watch?v=ZRCEq_JFeFM|||http://discovermagazine.com/2012/jul-aug/20-things-you-didnt-know-about-deserts/desert.jpg|||http://oyster.ignimgs.com/mediawiki/apis.ign.com/pokemon-silver-version/d/dd/Ditto.gif|||http://www.serebii.net/potw-dp/Scizor.jpg|||Not all artists are artists because they draw. It's the idea that counts in forming something of your own... like a signature.|||Welcome to the robot ranks, person who downed my self-esteem cuz I'm not an avid signature artist like herself. :proud:|||Banned for taking all the room under my bed. Ya gotta learn to share with the roaches.|||http://www.youtube.com/watch?v=w8IgImn57aQ|||Banned for being too much of a thundering, grumbling kind of storm... yep.|||Ahh... old high school music I haven't heard in ages.   http://www.youtube.com/watch?v=dcCRUPCdB1w|||I failed a public speaking class a few years ago and I've sort of learned what I could do better were I to be in that position again. A big part of my failure was just overloading myself with too...|||I like this person's mentality. He's a confirmed INTJ by the way. http://www.youtube.com/watch?v=hGKLI-GEc6M|||Move to the Denver area and start a new life for myself.\""
      ]
     },
     "execution_count": 3,
     "metadata": {},
     "output_type": "execute_result"
    }
   ],
   "source": [
    "def remove_first_last_quote(dataframe, col):\n",
    "    dataframe[col] = dataframe[col].str[1:-1]\n",
    "    return dataframe\n",
    "    \n",
    "df_raw_no_quote = remove_first_last_quote(df_raw, 'posts')\n",
    "df_raw_no_quote.posts[0]"
   ]
  },
  {
   "cell_type": "code",
   "execution_count": 4,
   "metadata": {},
   "outputs": [
    {
     "data": {
      "text/html": [
       "<div>\n",
       "<style scoped>\n",
       "    .dataframe tbody tr th:only-of-type {\n",
       "        vertical-align: middle;\n",
       "    }\n",
       "\n",
       "    .dataframe tbody tr th {\n",
       "        vertical-align: top;\n",
       "    }\n",
       "\n",
       "    .dataframe thead th {\n",
       "        text-align: right;\n",
       "    }\n",
       "</style>\n",
       "<table border=\"1\" class=\"dataframe\">\n",
       "  <thead>\n",
       "    <tr style=\"text-align: right;\">\n",
       "      <th></th>\n",
       "      <th>type</th>\n",
       "      <th>posts</th>\n",
       "    </tr>\n",
       "  </thead>\n",
       "  <tbody>\n",
       "    <tr>\n",
       "      <td>0</td>\n",
       "      <td>INFJ</td>\n",
       "      <td>http://www.youtube.com/watch?v=qsXHcwe3krw|||h...</td>\n",
       "    </tr>\n",
       "    <tr>\n",
       "      <td>1</td>\n",
       "      <td>ENTP</td>\n",
       "      <td>I'm finding the lack of me in these posts very...</td>\n",
       "    </tr>\n",
       "    <tr>\n",
       "      <td>2</td>\n",
       "      <td>INTP</td>\n",
       "      <td>Good one  _____   https://www.youtube.com/watc...</td>\n",
       "    </tr>\n",
       "    <tr>\n",
       "      <td>3</td>\n",
       "      <td>INTJ</td>\n",
       "      <td>Dear INTP,   I enjoyed our conversation the ot...</td>\n",
       "    </tr>\n",
       "    <tr>\n",
       "      <td>4</td>\n",
       "      <td>ENTJ</td>\n",
       "      <td>You're fired.|||That's another silly misconcep...</td>\n",
       "    </tr>\n",
       "    <tr>\n",
       "      <td>...</td>\n",
       "      <td>...</td>\n",
       "      <td>...</td>\n",
       "    </tr>\n",
       "    <tr>\n",
       "      <td>8670</td>\n",
       "      <td>ISFP</td>\n",
       "      <td>https://www.youtube.com/watch?v=t8edHB_h908|||...</td>\n",
       "    </tr>\n",
       "    <tr>\n",
       "      <td>8671</td>\n",
       "      <td>ENFP</td>\n",
       "      <td>So...if this thread already exists someplace e...</td>\n",
       "    </tr>\n",
       "    <tr>\n",
       "      <td>8672</td>\n",
       "      <td>INTP</td>\n",
       "      <td>So many questions when i do these things.  I w...</td>\n",
       "    </tr>\n",
       "    <tr>\n",
       "      <td>8673</td>\n",
       "      <td>INFP</td>\n",
       "      <td>I am very conflicted right now when it comes t...</td>\n",
       "    </tr>\n",
       "    <tr>\n",
       "      <td>8674</td>\n",
       "      <td>INFP</td>\n",
       "      <td>It has been too long since I have been on pers...</td>\n",
       "    </tr>\n",
       "  </tbody>\n",
       "</table>\n",
       "<p>8675 rows × 2 columns</p>\n",
       "</div>"
      ],
      "text/plain": [
       "      type                                              posts\n",
       "0     INFJ  http://www.youtube.com/watch?v=qsXHcwe3krw|||h...\n",
       "1     ENTP  I'm finding the lack of me in these posts very...\n",
       "2     INTP  Good one  _____   https://www.youtube.com/watc...\n",
       "3     INTJ  Dear INTP,   I enjoyed our conversation the ot...\n",
       "4     ENTJ  You're fired.|||That's another silly misconcep...\n",
       "...    ...                                                ...\n",
       "8670  ISFP  https://www.youtube.com/watch?v=t8edHB_h908|||...\n",
       "8671  ENFP  So...if this thread already exists someplace e...\n",
       "8672  INTP  So many questions when i do these things.  I w...\n",
       "8673  INFP  I am very conflicted right now when it comes t...\n",
       "8674  INFP  It has been too long since I have been on pers...\n",
       "\n",
       "[8675 rows x 2 columns]"
      ]
     },
     "execution_count": 4,
     "metadata": {},
     "output_type": "execute_result"
    }
   ],
   "source": [
    "df2 = df_raw_no_quote #[0:10]\n",
    "df2"
   ]
  },
  {
   "cell_type": "code",
   "execution_count": 5,
   "metadata": {
    "scrolled": true
   },
   "outputs": [
    {
     "data": {
      "text/html": [
       "<div>\n",
       "<style scoped>\n",
       "    .dataframe tbody tr th:only-of-type {\n",
       "        vertical-align: middle;\n",
       "    }\n",
       "\n",
       "    .dataframe tbody tr th {\n",
       "        vertical-align: top;\n",
       "    }\n",
       "\n",
       "    .dataframe thead th {\n",
       "        text-align: right;\n",
       "    }\n",
       "</style>\n",
       "<table border=\"1\" class=\"dataframe\">\n",
       "  <thead>\n",
       "    <tr style=\"text-align: right;\">\n",
       "      <th></th>\n",
       "      <th>type</th>\n",
       "      <th>posts</th>\n",
       "    </tr>\n",
       "  </thead>\n",
       "  <tbody>\n",
       "    <tr>\n",
       "      <td>0</td>\n",
       "      <td>INFJ</td>\n",
       "      <td>[http://www.youtube.com/watch?v=qsXHcwe3krw, h...</td>\n",
       "    </tr>\n",
       "    <tr>\n",
       "      <td>1</td>\n",
       "      <td>ENTP</td>\n",
       "      <td>[I'm finding the lack of me in these posts ver...</td>\n",
       "    </tr>\n",
       "    <tr>\n",
       "      <td>2</td>\n",
       "      <td>INTP</td>\n",
       "      <td>[Good one  _____   https://www.youtube.com/wat...</td>\n",
       "    </tr>\n",
       "    <tr>\n",
       "      <td>3</td>\n",
       "      <td>INTJ</td>\n",
       "      <td>[Dear INTP,   I enjoyed our conversation the o...</td>\n",
       "    </tr>\n",
       "    <tr>\n",
       "      <td>4</td>\n",
       "      <td>ENTJ</td>\n",
       "      <td>[You're fired., That's another silly misconcep...</td>\n",
       "    </tr>\n",
       "    <tr>\n",
       "      <td>5</td>\n",
       "      <td>INTJ</td>\n",
       "      <td>[18/37 @.@, Science  is not perfect. No scient...</td>\n",
       "    </tr>\n",
       "    <tr>\n",
       "      <td>6</td>\n",
       "      <td>INFJ</td>\n",
       "      <td>[No, I can't draw on my own nails (haha). Thos...</td>\n",
       "    </tr>\n",
       "    <tr>\n",
       "      <td>7</td>\n",
       "      <td>INTJ</td>\n",
       "      <td>[I tend to build up a collection of things on ...</td>\n",
       "    </tr>\n",
       "    <tr>\n",
       "      <td>8</td>\n",
       "      <td>INFJ</td>\n",
       "      <td>['m not sure, that's a good question. The dist...</td>\n",
       "    </tr>\n",
       "    <tr>\n",
       "      <td>9</td>\n",
       "      <td>INTP</td>\n",
       "      <td>[https://www.youtube.com/watch?v=w8-egj0y8Qs, ...</td>\n",
       "    </tr>\n",
       "  </tbody>\n",
       "</table>\n",
       "</div>"
      ],
      "text/plain": [
       "   type                                              posts\n",
       "0  INFJ  [http://www.youtube.com/watch?v=qsXHcwe3krw, h...\n",
       "1  ENTP  [I'm finding the lack of me in these posts ver...\n",
       "2  INTP  [Good one  _____   https://www.youtube.com/wat...\n",
       "3  INTJ  [Dear INTP,   I enjoyed our conversation the o...\n",
       "4  ENTJ  [You're fired., That's another silly misconcep...\n",
       "5  INTJ  [18/37 @.@, Science  is not perfect. No scient...\n",
       "6  INFJ  [No, I can't draw on my own nails (haha). Thos...\n",
       "7  INTJ  [I tend to build up a collection of things on ...\n",
       "8  INFJ  ['m not sure, that's a good question. The dist...\n",
       "9  INTP  [https://www.youtube.com/watch?v=w8-egj0y8Qs, ..."
      ]
     },
     "execution_count": 5,
     "metadata": {},
     "output_type": "execute_result"
    }
   ],
   "source": [
    "df2.posts = df2.posts.str.split('\\|\\|\\|')\n",
    "df2.head(10)"
   ]
  },
  {
   "cell_type": "code",
   "execution_count": 37,
   "metadata": {},
   "outputs": [
    {
     "data": {
      "text/plain": [
       "8675"
      ]
     },
     "execution_count": 37,
     "metadata": {},
     "output_type": "execute_result"
    }
   ],
   "source": [
    "len(df_raw.index)"
   ]
  },
  {
   "cell_type": "code",
   "execution_count": 38,
   "metadata": {},
   "outputs": [
    {
     "name": "stderr",
     "output_type": "stream",
     "text": [
      "/home/asa/anaconda3/lib/python3.7/site-packages/ipykernel_launcher.py:1: SettingWithCopyWarning: \n",
      "A value is trying to be set on a copy of a slice from a DataFrame.\n",
      "Try using .loc[row_indexer,col_indexer] = value instead\n",
      "\n",
      "See the caveats in the documentation: http://pandas.pydata.org/pandas-docs/stable/user_guide/indexing.html#returning-a-view-versus-a-copy\n",
      "  \"\"\"Entry point for launching an IPython kernel.\n"
     ]
    },
    {
     "data": {
      "text/html": [
       "<div>\n",
       "<style scoped>\n",
       "    .dataframe tbody tr th:only-of-type {\n",
       "        vertical-align: middle;\n",
       "    }\n",
       "\n",
       "    .dataframe tbody tr th {\n",
       "        vertical-align: top;\n",
       "    }\n",
       "\n",
       "    .dataframe thead th {\n",
       "        text-align: right;\n",
       "    }\n",
       "</style>\n",
       "<table border=\"1\" class=\"dataframe\">\n",
       "  <thead>\n",
       "    <tr style=\"text-align: right;\">\n",
       "      <th></th>\n",
       "      <th>type</th>\n",
       "      <th>posts</th>\n",
       "      <th>posts_char_count</th>\n",
       "    </tr>\n",
       "  </thead>\n",
       "  <tbody>\n",
       "    <tr>\n",
       "      <td>0</td>\n",
       "      <td>INFJ</td>\n",
       "      <td>[http://www.youtube.com/watch?v=qsXHcwe3krw, h...</td>\n",
       "      <td></td>\n",
       "    </tr>\n",
       "    <tr>\n",
       "      <td>1</td>\n",
       "      <td>ENTP</td>\n",
       "      <td>[I'm finding the lack of me in these posts ver...</td>\n",
       "      <td></td>\n",
       "    </tr>\n",
       "  </tbody>\n",
       "</table>\n",
       "</div>"
      ],
      "text/plain": [
       "   type                                              posts posts_char_count\n",
       "0  INFJ  [http://www.youtube.com/watch?v=qsXHcwe3krw, h...                 \n",
       "1  ENTP  [I'm finding the lack of me in these posts ver...                 "
      ]
     },
     "execution_count": 38,
     "metadata": {},
     "output_type": "execute_result"
    }
   ],
   "source": [
    "df2['posts_char_count'] = \"\"\n",
    "df2"
   ]
  },
  {
   "cell_type": "code",
   "execution_count": 55,
   "metadata": {},
   "outputs": [
    {
     "data": {
      "text/html": [
       "<div>\n",
       "<style scoped>\n",
       "    .dataframe tbody tr th:only-of-type {\n",
       "        vertical-align: middle;\n",
       "    }\n",
       "\n",
       "    .dataframe tbody tr th {\n",
       "        vertical-align: top;\n",
       "    }\n",
       "\n",
       "    .dataframe thead th {\n",
       "        text-align: right;\n",
       "    }\n",
       "</style>\n",
       "<table border=\"1\" class=\"dataframe\">\n",
       "  <thead>\n",
       "    <tr style=\"text-align: right;\">\n",
       "      <th></th>\n",
       "      <th>type</th>\n",
       "      <th>posts</th>\n",
       "    </tr>\n",
       "  </thead>\n",
       "  <tbody>\n",
       "    <tr>\n",
       "      <td>0</td>\n",
       "      <td>INFJ</td>\n",
       "      <td>[http://www.youtube.com/watch?v=qsXHcwe3krw, h...</td>\n",
       "    </tr>\n",
       "    <tr>\n",
       "      <td>1</td>\n",
       "      <td>ENTP</td>\n",
       "      <td>[I'm finding the lack of me in these posts ver...</td>\n",
       "    </tr>\n",
       "  </tbody>\n",
       "</table>\n",
       "</div>"
      ],
      "text/plain": [
       "   type                                              posts\n",
       "0  INFJ  [http://www.youtube.com/watch?v=qsXHcwe3krw, h...\n",
       "1  ENTP  [I'm finding the lack of me in these posts ver..."
      ]
     },
     "execution_count": 55,
     "metadata": {},
     "output_type": "execute_result"
    }
   ],
   "source": [
    "df2.drop('posts_char_count', axis=1)"
   ]
  },
  {
   "cell_type": "code",
   "execution_count": 6,
   "metadata": {},
   "outputs": [
    {
     "data": {
      "text/html": [
       "<div>\n",
       "<style scoped>\n",
       "    .dataframe tbody tr th:only-of-type {\n",
       "        vertical-align: middle;\n",
       "    }\n",
       "\n",
       "    .dataframe tbody tr th {\n",
       "        vertical-align: top;\n",
       "    }\n",
       "\n",
       "    .dataframe thead th {\n",
       "        text-align: right;\n",
       "    }\n",
       "</style>\n",
       "<table border=\"1\" class=\"dataframe\">\n",
       "  <thead>\n",
       "    <tr style=\"text-align: right;\">\n",
       "      <th></th>\n",
       "      <th>type</th>\n",
       "      <th>posts</th>\n",
       "      <th>posts_char_count</th>\n",
       "    </tr>\n",
       "  </thead>\n",
       "  <tbody>\n",
       "    <tr>\n",
       "      <td>0</td>\n",
       "      <td>INFJ</td>\n",
       "      <td>[http://www.youtube.com/watch?v=qsXHcwe3krw, h...</td>\n",
       "      <td>[42, 61, 151, 61, 117, 36, 135, 200, 171, 18, ...</td>\n",
       "    </tr>\n",
       "    <tr>\n",
       "      <td>1</td>\n",
       "      <td>ENTP</td>\n",
       "      <td>[I'm finding the lack of me in these posts ver...</td>\n",
       "      <td>[56, 196, 36, 191, 49, 198, 201, 67, 49, 191, ...</td>\n",
       "    </tr>\n",
       "    <tr>\n",
       "      <td>2</td>\n",
       "      <td>INTP</td>\n",
       "      <td>[Good one  _____   https://www.youtube.com/wat...</td>\n",
       "      <td>[61, 66, 197, 35, 201, 200, 34, 56, 77, 146, 1...</td>\n",
       "    </tr>\n",
       "    <tr>\n",
       "      <td>3</td>\n",
       "      <td>INTJ</td>\n",
       "      <td>[Dear INTP,   I enjoyed our conversation the o...</td>\n",
       "      <td>[188, 52, 83, 93, 50, 201, 200, 196, 122, 41, ...</td>\n",
       "    </tr>\n",
       "    <tr>\n",
       "      <td>4</td>\n",
       "      <td>ENTJ</td>\n",
       "      <td>[You're fired., That's another silly misconcep...</td>\n",
       "      <td>[13, 190, 170, 42, 195, 60, 98, 202, 66, 90, 1...</td>\n",
       "    </tr>\n",
       "    <tr>\n",
       "      <td>5</td>\n",
       "      <td>INTJ</td>\n",
       "      <td>[18/37 @.@, Science  is not perfect. No scient...</td>\n",
       "      <td>[9, 195, 57, 198, 34, 201, 197, 197, 198, 199,...</td>\n",
       "    </tr>\n",
       "    <tr>\n",
       "      <td>6</td>\n",
       "      <td>INFJ</td>\n",
       "      <td>[No, I can't draw on my own nails (haha). Thos...</td>\n",
       "      <td>[191, 197, 81, 156, 126, 199, 200, 199, 197, 1...</td>\n",
       "    </tr>\n",
       "    <tr>\n",
       "      <td>7</td>\n",
       "      <td>INTJ</td>\n",
       "      <td>[I tend to build up a collection of things on ...</td>\n",
       "      <td>[179, 190, 197, 194, 6, 110, 93, 5, 73, 193, 2...</td>\n",
       "    </tr>\n",
       "    <tr>\n",
       "      <td>8</td>\n",
       "      <td>INFJ</td>\n",
       "      <td>['m not sure, that's a good question. The dist...</td>\n",
       "      <td>[195, 193, 43, 43, 199, 164, 201, 101, 201, 43...</td>\n",
       "    </tr>\n",
       "    <tr>\n",
       "      <td>9</td>\n",
       "      <td>INTP</td>\n",
       "      <td>[https://www.youtube.com/watch?v=w8-egj0y8Qs, ...</td>\n",
       "      <td>[43, 195, 88, 197, 42, 198, 141, 119, 145, 197...</td>\n",
       "    </tr>\n",
       "  </tbody>\n",
       "</table>\n",
       "</div>"
      ],
      "text/plain": [
       "   type                                              posts  \\\n",
       "0  INFJ  [http://www.youtube.com/watch?v=qsXHcwe3krw, h...   \n",
       "1  ENTP  [I'm finding the lack of me in these posts ver...   \n",
       "2  INTP  [Good one  _____   https://www.youtube.com/wat...   \n",
       "3  INTJ  [Dear INTP,   I enjoyed our conversation the o...   \n",
       "4  ENTJ  [You're fired., That's another silly misconcep...   \n",
       "5  INTJ  [18/37 @.@, Science  is not perfect. No scient...   \n",
       "6  INFJ  [No, I can't draw on my own nails (haha). Thos...   \n",
       "7  INTJ  [I tend to build up a collection of things on ...   \n",
       "8  INFJ  ['m not sure, that's a good question. The dist...   \n",
       "9  INTP  [https://www.youtube.com/watch?v=w8-egj0y8Qs, ...   \n",
       "\n",
       "                                    posts_char_count  \n",
       "0  [42, 61, 151, 61, 117, 36, 135, 200, 171, 18, ...  \n",
       "1  [56, 196, 36, 191, 49, 198, 201, 67, 49, 191, ...  \n",
       "2  [61, 66, 197, 35, 201, 200, 34, 56, 77, 146, 1...  \n",
       "3  [188, 52, 83, 93, 50, 201, 200, 196, 122, 41, ...  \n",
       "4  [13, 190, 170, 42, 195, 60, 98, 202, 66, 90, 1...  \n",
       "5  [9, 195, 57, 198, 34, 201, 197, 197, 198, 199,...  \n",
       "6  [191, 197, 81, 156, 126, 199, 200, 199, 197, 1...  \n",
       "7  [179, 190, 197, 194, 6, 110, 93, 5, 73, 193, 2...  \n",
       "8  [195, 193, 43, 43, 199, 164, 201, 101, 201, 43...  \n",
       "9  [43, 195, 88, 197, 42, 198, 141, 119, 145, 197...  "
      ]
     },
     "execution_count": 6,
     "metadata": {},
     "output_type": "execute_result"
    }
   ],
   "source": [
    "def create_post_length_list(dataframe, col, newcol):\n",
    "    dataframe[newcol] = \"\"\n",
    "    for i in range(len(dataframe.index)):\n",
    "        char_count_list = []\n",
    "        for post in range(len(dataframe[col][i])):\n",
    "            char_count_list.append(len(dataframe[col][i][post]))\n",
    "        dataframe[newcol][i] = char_count_list\n",
    "    return dataframe\n",
    "\n",
    "df3 = create_post_length_list(df2, 'posts', 'posts_char_count')\n",
    "df3.head(10)"
   ]
  },
  {
   "cell_type": "code",
   "execution_count": 7,
   "metadata": {},
   "outputs": [
    {
     "data": {
      "text/html": [
       "<div>\n",
       "<style scoped>\n",
       "    .dataframe tbody tr th:only-of-type {\n",
       "        vertical-align: middle;\n",
       "    }\n",
       "\n",
       "    .dataframe tbody tr th {\n",
       "        vertical-align: top;\n",
       "    }\n",
       "\n",
       "    .dataframe thead th {\n",
       "        text-align: right;\n",
       "    }\n",
       "</style>\n",
       "<table border=\"1\" class=\"dataframe\">\n",
       "  <thead>\n",
       "    <tr style=\"text-align: right;\">\n",
       "      <th></th>\n",
       "      <th>posts_char_count</th>\n",
       "    </tr>\n",
       "    <tr>\n",
       "      <th>type</th>\n",
       "      <th></th>\n",
       "    </tr>\n",
       "  </thead>\n",
       "  <tbody>\n",
       "    <tr>\n",
       "      <td>ENFJ</td>\n",
       "      <td>[43, 5, 202, 23, 198, 156, 10, 15, 201, 198, 8...</td>\n",
       "    </tr>\n",
       "    <tr>\n",
       "      <td>ENFP</td>\n",
       "      <td>[199, 202, 201, 196, 200, 193, 66, 201, 71, 20...</td>\n",
       "    </tr>\n",
       "    <tr>\n",
       "      <td>ENTJ</td>\n",
       "      <td>[13, 190, 170, 42, 195, 60, 98, 202, 66, 90, 1...</td>\n",
       "    </tr>\n",
       "    <tr>\n",
       "      <td>ENTP</td>\n",
       "      <td>[56, 196, 36, 191, 49, 198, 201, 67, 49, 191, ...</td>\n",
       "    </tr>\n",
       "    <tr>\n",
       "      <td>ESFJ</td>\n",
       "      <td>[8, 139, 200, 121, 173, 47, 200, 182, 196, 201...</td>\n",
       "    </tr>\n",
       "    <tr>\n",
       "      <td>ESFP</td>\n",
       "      <td>[38, 157, 198, 87, 31, 30, 202, 194, 161, 122,...</td>\n",
       "    </tr>\n",
       "    <tr>\n",
       "      <td>ESTJ</td>\n",
       "      <td>[23, 116, 29, 197, 2, 197, 200, 152, 200, 199,...</td>\n",
       "    </tr>\n",
       "    <tr>\n",
       "      <td>ESTP</td>\n",
       "      <td>[36, 112, 195, 28, 35, 12, 2, 41, 75, 83, 33, ...</td>\n",
       "    </tr>\n",
       "    <tr>\n",
       "      <td>INFJ</td>\n",
       "      <td>[42, 61, 151, 61, 117, 36, 135, 200, 171, 18, ...</td>\n",
       "    </tr>\n",
       "    <tr>\n",
       "      <td>INFP</td>\n",
       "      <td>[195, 198, 196, 198, 199, 198, 196, 197, 167, ...</td>\n",
       "    </tr>\n",
       "    <tr>\n",
       "      <td>INTJ</td>\n",
       "      <td>[188, 52, 83, 93, 50, 201, 200, 196, 122, 41, ...</td>\n",
       "    </tr>\n",
       "    <tr>\n",
       "      <td>INTP</td>\n",
       "      <td>[61, 66, 197, 35, 201, 200, 34, 56, 77, 146, 1...</td>\n",
       "    </tr>\n",
       "    <tr>\n",
       "      <td>ISFJ</td>\n",
       "      <td>[198, 202, 200, 200, 201, 201, 165, 74, 127, 1...</td>\n",
       "    </tr>\n",
       "    <tr>\n",
       "      <td>ISFP</td>\n",
       "      <td>[26, 21, 202, 202, 189, 129, 58, 1, 4, 26, 198...</td>\n",
       "    </tr>\n",
       "    <tr>\n",
       "      <td>ISTJ</td>\n",
       "      <td>[122, 198, 45, 110, 198, 120, 61, 125, 114, 17...</td>\n",
       "    </tr>\n",
       "    <tr>\n",
       "      <td>ISTP</td>\n",
       "      <td>[133, 12, 201, 196, 202, 199, 196, 198, 199, 2...</td>\n",
       "    </tr>\n",
       "  </tbody>\n",
       "</table>\n",
       "</div>"
      ],
      "text/plain": [
       "                                       posts_char_count\n",
       "type                                                   \n",
       "ENFJ  [43, 5, 202, 23, 198, 156, 10, 15, 201, 198, 8...\n",
       "ENFP  [199, 202, 201, 196, 200, 193, 66, 201, 71, 20...\n",
       "ENTJ  [13, 190, 170, 42, 195, 60, 98, 202, 66, 90, 1...\n",
       "ENTP  [56, 196, 36, 191, 49, 198, 201, 67, 49, 191, ...\n",
       "ESFJ  [8, 139, 200, 121, 173, 47, 200, 182, 196, 201...\n",
       "ESFP  [38, 157, 198, 87, 31, 30, 202, 194, 161, 122,...\n",
       "ESTJ  [23, 116, 29, 197, 2, 197, 200, 152, 200, 199,...\n",
       "ESTP  [36, 112, 195, 28, 35, 12, 2, 41, 75, 83, 33, ...\n",
       "INFJ  [42, 61, 151, 61, 117, 36, 135, 200, 171, 18, ...\n",
       "INFP  [195, 198, 196, 198, 199, 198, 196, 197, 167, ...\n",
       "INTJ  [188, 52, 83, 93, 50, 201, 200, 196, 122, 41, ...\n",
       "INTP  [61, 66, 197, 35, 201, 200, 34, 56, 77, 146, 1...\n",
       "ISFJ  [198, 202, 200, 200, 201, 201, 165, 74, 127, 1...\n",
       "ISFP  [26, 21, 202, 202, 189, 129, 58, 1, 4, 26, 198...\n",
       "ISTJ  [122, 198, 45, 110, 198, 120, 61, 125, 114, 17...\n",
       "ISTP  [133, 12, 201, 196, 202, 199, 196, 198, 199, 2..."
      ]
     },
     "execution_count": 7,
     "metadata": {},
     "output_type": "execute_result"
    }
   ],
   "source": [
    "df_words_by_type = df2.groupby('type').agg({'posts_char_count': 'sum'})\n",
    "df_words_by_type"
   ]
  },
  {
   "cell_type": "code",
   "execution_count": null,
   "metadata": {},
   "outputs": [],
   "source": []
  },
  {
   "cell_type": "code",
   "execution_count": 211,
   "metadata": {},
   "outputs": [
    {
     "data": {
      "text/plain": [
       "[230,\n",
       " 211,\n",
       " 253,\n",
       " 210,\n",
       " 203,\n",
       " 203,\n",
       " 204,\n",
       " 204,\n",
       " 263,\n",
       " 216,\n",
       " 211,\n",
       " 214,\n",
       " 206,\n",
       " 206,\n",
       " 204,\n",
       " 207]"
      ]
     },
     "execution_count": 211,
     "metadata": {},
     "output_type": "execute_result"
    }
   ],
   "source": [
    "max_post_len = []\n",
    "for a in range(0,16):\n",
    "    max_post_len.append(max(df_words_by_type['posts_char_count'][a]))\n",
    "                        \n",
    "max_post_len"
   ]
  },
  {
   "cell_type": "code",
   "execution_count": 8,
   "metadata": {},
   "outputs": [
    {
     "name": "stdout",
     "output_type": "stream",
     "text": [
      "(1, 0)\n",
      "ISTP\n"
     ]
    }
   ],
   "source": [
    "types = {'ISTJ': (0,0),\n",
    "         'ISFJ': (0,1),\n",
    "         'INFJ': (0,2),\n",
    "         'INTJ': (0,3),\n",
    "         'ISTP': (1,0),\n",
    "         'ISFP': (1,1),\n",
    "         'INFP': (1,2),\n",
    "         'INTP': (1,3),\n",
    "         'ESTP': (2,0),\n",
    "         'ESFP': (2,1),\n",
    "         'ENFP': (2,2),\n",
    "         'ENTP': (2,3),\n",
    "         'ESTJ': (3,0),\n",
    "         'ESFJ': (3,1),\n",
    "         'ENFJ': (3,2),\n",
    "         'ENTJ': (3,3)\n",
    "        }\n",
    "\n",
    "print(types[list(types.keys())[4]])\n",
    "print(list(types.keys())[4])"
   ]
  },
  {
   "cell_type": "code",
   "execution_count": 203,
   "metadata": {},
   "outputs": [
    {
     "data": {
      "text/plain": [
       "range(0, 16)"
      ]
     },
     "execution_count": 203,
     "metadata": {},
     "output_type": "execute_result"
    }
   ],
   "source": [
    "range(len(list(types.keys())))"
   ]
  },
  {
   "cell_type": "code",
   "execution_count": 35,
   "metadata": {},
   "outputs": [],
   "source": [
    "\n",
    "plt.rcParams.update(plt.rcParamsDefault)"
   ]
  },
  {
   "cell_type": "code",
   "execution_count": 70,
   "metadata": {},
   "outputs": [
    {
     "data": {
      "image/png": "[encoded data removed]",
      "text/plain": [
       "<Figure size 1600x1200 with 16 Axes>"
      ]
     },
     "metadata": {},
     "output_type": "display_data"
    }
   ],
   "source": [
    "fig, axs = plt.subplots(4, 4, figsize=(16, 12), sharex=True, sharey=True)\n",
    "\n",
    "for i in range(len(list(types.keys()))):\n",
    "    ax = axs[types[list(types.keys())[i]]]\n",
    "    ax.grid(True, color='black', alpha=0.5, linestyle='dashed')\n",
    "    ax.hist(df_words_by_type.loc[list(types.keys())[i],:], bins=20, alpha = 0.75)\n",
    "    ax.set_xlabel('Length of post (chars)', fontsize=18, labelpad=18)\n",
    "    ax.set_ylabel('Counts (log)', fontsize=18, labelpad=18)\n",
    "    ax.set_axisbelow(True)\n",
    "    ax.text(100, 10000, list(types.keys())[i], fontsize = 18, fontweight='bold', color = 'red',\n",
    "        bbox={'facecolor': 'white', 'edgecolor': 'white', 'alpha': 0.75, 'pad': 10})\n",
    "    xvalues = np.arange(0, 251, 50)\n",
    "    plt.xticks(xvalues)\n",
    "    ax.set_xticklabels(xvalues, fontsize=16)\n",
    "    yvalues = np.arange(0, 40001, 10000)\n",
    "    plt.yticks(yvalues)\n",
    "    ax.set_yticklabels(yvalues, fontsize=16)\n",
    "    ax.label_outer()\n",
    "\n",
    "plt.yscale(\"log\")\n",
    "fig.suptitle('Count of Posts by Post Length for MBTI Types', fontsize=22, fontweight='bold', y = 0.98)\n",
    "fig.tight_layout(pad = 2)\n",
    "plt.subplots_adjust(top=0.94)\n",
    "plt.show()\n",
    "fig.savefig(\"../images/post_length_hist_by_type.png\")"
   ]
  },
  {
   "cell_type": "code",
   "execution_count": null,
   "metadata": {},
   "outputs": [],
   "source": []
  },
  {
   "cell_type": "code",
   "execution_count": 150,
   "metadata": {},
   "outputs": [
    {
     "data": {
      "text/html": [
       "<div>\n",
       "<style scoped>\n",
       "    .dataframe tbody tr th:only-of-type {\n",
       "        vertical-align: middle;\n",
       "    }\n",
       "\n",
       "    .dataframe tbody tr th {\n",
       "        vertical-align: top;\n",
       "    }\n",
       "\n",
       "    .dataframe thead th {\n",
       "        text-align: right;\n",
       "    }\n",
       "</style>\n",
       "<table border=\"1\" class=\"dataframe\">\n",
       "  <thead>\n",
       "    <tr style=\"text-align: right;\">\n",
       "      <th></th>\n",
       "      <th>type</th>\n",
       "      <th>posts</th>\n",
       "      <th>posts_char_count</th>\n",
       "    </tr>\n",
       "  </thead>\n",
       "  <tbody>\n",
       "    <tr>\n",
       "      <td>0</td>\n",
       "      <td>INFJ</td>\n",
       "      <td>[http://www.youtube.com/watch?v=qsXHcwe3krw, h...</td>\n",
       "      <td>42</td>\n",
       "    </tr>\n",
       "    <tr>\n",
       "      <td>0</td>\n",
       "      <td>INFJ</td>\n",
       "      <td>[http://www.youtube.com/watch?v=qsXHcwe3krw, h...</td>\n",
       "      <td>61</td>\n",
       "    </tr>\n",
       "    <tr>\n",
       "      <td>0</td>\n",
       "      <td>INFJ</td>\n",
       "      <td>[http://www.youtube.com/watch?v=qsXHcwe3krw, h...</td>\n",
       "      <td>151</td>\n",
       "    </tr>\n",
       "    <tr>\n",
       "      <td>0</td>\n",
       "      <td>INFJ</td>\n",
       "      <td>[http://www.youtube.com/watch?v=qsXHcwe3krw, h...</td>\n",
       "      <td>61</td>\n",
       "    </tr>\n",
       "    <tr>\n",
       "      <td>0</td>\n",
       "      <td>INFJ</td>\n",
       "      <td>[http://www.youtube.com/watch?v=qsXHcwe3krw, h...</td>\n",
       "      <td>117</td>\n",
       "    </tr>\n",
       "    <tr>\n",
       "      <td>...</td>\n",
       "      <td>...</td>\n",
       "      <td>...</td>\n",
       "      <td>...</td>\n",
       "    </tr>\n",
       "    <tr>\n",
       "      <td>9</td>\n",
       "      <td>INTP</td>\n",
       "      <td>[https://www.youtube.com/watch?v=w8-egj0y8Qs, ...</td>\n",
       "      <td>194</td>\n",
       "    </tr>\n",
       "    <tr>\n",
       "      <td>9</td>\n",
       "      <td>INTP</td>\n",
       "      <td>[https://www.youtube.com/watch?v=w8-egj0y8Qs, ...</td>\n",
       "      <td>60</td>\n",
       "    </tr>\n",
       "    <tr>\n",
       "      <td>9</td>\n",
       "      <td>INTP</td>\n",
       "      <td>[https://www.youtube.com/watch?v=w8-egj0y8Qs, ...</td>\n",
       "      <td>194</td>\n",
       "    </tr>\n",
       "    <tr>\n",
       "      <td>9</td>\n",
       "      <td>INTP</td>\n",
       "      <td>[https://www.youtube.com/watch?v=w8-egj0y8Qs, ...</td>\n",
       "      <td>129</td>\n",
       "    </tr>\n",
       "    <tr>\n",
       "      <td>9</td>\n",
       "      <td>INTP</td>\n",
       "      <td>[https://www.youtube.com/watch?v=w8-egj0y8Qs, ...</td>\n",
       "      <td>202</td>\n",
       "    </tr>\n",
       "  </tbody>\n",
       "</table>\n",
       "<p>500 rows × 3 columns</p>\n",
       "</div>"
      ],
      "text/plain": [
       "    type                                              posts  posts_char_count\n",
       "0   INFJ  [http://www.youtube.com/watch?v=qsXHcwe3krw, h...                42\n",
       "0   INFJ  [http://www.youtube.com/watch?v=qsXHcwe3krw, h...                61\n",
       "0   INFJ  [http://www.youtube.com/watch?v=qsXHcwe3krw, h...               151\n",
       "0   INFJ  [http://www.youtube.com/watch?v=qsXHcwe3krw, h...                61\n",
       "0   INFJ  [http://www.youtube.com/watch?v=qsXHcwe3krw, h...               117\n",
       "..   ...                                                ...               ...\n",
       "9   INTP  [https://www.youtube.com/watch?v=w8-egj0y8Qs, ...               194\n",
       "9   INTP  [https://www.youtube.com/watch?v=w8-egj0y8Qs, ...                60\n",
       "9   INTP  [https://www.youtube.com/watch?v=w8-egj0y8Qs, ...               194\n",
       "9   INTP  [https://www.youtube.com/watch?v=w8-egj0y8Qs, ...               129\n",
       "9   INTP  [https://www.youtube.com/watch?v=w8-egj0y8Qs, ...               202\n",
       "\n",
       "[500 rows x 3 columns]"
      ]
     },
     "execution_count": 150,
     "metadata": {},
     "output_type": "execute_result"
    }
   ],
   "source": [
    "df3 = df2.explode('posts_char_count')\n",
    "df3['posts_char_count'] = df3['posts_char_count'].astype(int)\n",
    "df3"
   ]
  },
  {
   "cell_type": "code",
   "execution_count": 151,
   "metadata": {},
   "outputs": [
    {
     "data": {
      "text/html": [
       "<div>\n",
       "<style scoped>\n",
       "    .dataframe tbody tr th:only-of-type {\n",
       "        vertical-align: middle;\n",
       "    }\n",
       "\n",
       "    .dataframe tbody tr th {\n",
       "        vertical-align: top;\n",
       "    }\n",
       "\n",
       "    .dataframe thead th {\n",
       "        text-align: right;\n",
       "    }\n",
       "</style>\n",
       "<table border=\"1\" class=\"dataframe\">\n",
       "  <thead>\n",
       "    <tr style=\"text-align: right;\">\n",
       "      <th></th>\n",
       "      <th>posts_char_count</th>\n",
       "    </tr>\n",
       "    <tr>\n",
       "      <th>type</th>\n",
       "      <th></th>\n",
       "    </tr>\n",
       "  </thead>\n",
       "  <tbody>\n",
       "    <tr>\n",
       "      <td>ENTJ</td>\n",
       "      <td>119.240000</td>\n",
       "    </tr>\n",
       "    <tr>\n",
       "      <td>ENTP</td>\n",
       "      <td>138.080000</td>\n",
       "    </tr>\n",
       "    <tr>\n",
       "      <td>INFJ</td>\n",
       "      <td>116.306667</td>\n",
       "    </tr>\n",
       "    <tr>\n",
       "      <td>INTJ</td>\n",
       "      <td>142.086667</td>\n",
       "    </tr>\n",
       "    <tr>\n",
       "      <td>INTP</td>\n",
       "      <td>125.400000</td>\n",
       "    </tr>\n",
       "  </tbody>\n",
       "</table>\n",
       "</div>"
      ],
      "text/plain": [
       "      posts_char_count\n",
       "type                  \n",
       "ENTJ        119.240000\n",
       "ENTP        138.080000\n",
       "INFJ        116.306667\n",
       "INTJ        142.086667\n",
       "INTP        125.400000"
      ]
     },
     "execution_count": 151,
     "metadata": {},
     "output_type": "execute_result"
    }
   ],
   "source": [
    "df3.groupby('type').mean()"
   ]
  },
  {
   "cell_type": "code",
   "execution_count": 154,
   "metadata": {},
   "outputs": [
    {
     "data": {
      "text/html": [
       "<div>\n",
       "<style scoped>\n",
       "    .dataframe tbody tr th:only-of-type {\n",
       "        vertical-align: middle;\n",
       "    }\n",
       "\n",
       "    .dataframe tbody tr th {\n",
       "        vertical-align: top;\n",
       "    }\n",
       "\n",
       "    .dataframe thead th {\n",
       "        text-align: right;\n",
       "    }\n",
       "</style>\n",
       "<table border=\"1\" class=\"dataframe\">\n",
       "  <thead>\n",
       "    <tr style=\"text-align: right;\">\n",
       "      <th></th>\n",
       "      <th>posts_char_count</th>\n",
       "    </tr>\n",
       "    <tr>\n",
       "      <th>type</th>\n",
       "      <th></th>\n",
       "    </tr>\n",
       "  </thead>\n",
       "  <tbody>\n",
       "    <tr>\n",
       "      <td>ENTJ</td>\n",
       "      <td>73.662097</td>\n",
       "    </tr>\n",
       "    <tr>\n",
       "      <td>ENTP</td>\n",
       "      <td>63.930715</td>\n",
       "    </tr>\n",
       "    <tr>\n",
       "      <td>INFJ</td>\n",
       "      <td>67.812508</td>\n",
       "    </tr>\n",
       "    <tr>\n",
       "      <td>INTJ</td>\n",
       "      <td>67.731303</td>\n",
       "    </tr>\n",
       "    <tr>\n",
       "      <td>INTP</td>\n",
       "      <td>70.988120</td>\n",
       "    </tr>\n",
       "  </tbody>\n",
       "</table>\n",
       "</div>"
      ],
      "text/plain": [
       "      posts_char_count\n",
       "type                  \n",
       "ENTJ         73.662097\n",
       "ENTP         63.930715\n",
       "INFJ         67.812508\n",
       "INTJ         67.731303\n",
       "INTP         70.988120"
      ]
     },
     "execution_count": 154,
     "metadata": {},
     "output_type": "execute_result"
    }
   ],
   "source": [
    "df3.groupby('type').std()"
   ]
  },
  {
   "cell_type": "code",
   "execution_count": 148,
   "metadata": {},
   "outputs": [
    {
     "data": {
      "text/plain": [
       "50"
      ]
     },
     "execution_count": 148,
     "metadata": {},
     "output_type": "execute_result"
    }
   ],
   "source": [
    "len(df_words_by_type['posts_char_count'][0])"
   ]
  },
  {
   "cell_type": "code",
   "execution_count": 112,
   "metadata": {},
   "outputs": [
    {
     "data": {
      "text/plain": [
       "119.24"
      ]
     },
     "execution_count": 112,
     "metadata": {},
     "output_type": "execute_result"
    }
   ],
   "source": [
    "ls = df_words_by_type['posts_char_count'][0]\n",
    "mean = sum(ls) / len(ls)\n",
    "mean2 = np.mean(ls)\n",
    "mean2"
   ]
  },
  {
   "cell_type": "code",
   "execution_count": null,
   "metadata": {},
   "outputs": [],
   "source": [
    "s = np.mean(df_words_by_type['posts_char_count'].tolist(), axis=1)\n",
    "s"
   ]
  },
  {
   "cell_type": "code",
   "execution_count": 118,
   "metadata": {},
   "outputs": [
    {
     "data": {
      "text/plain": [
       "0    119.240000\n",
       "1    138.080000\n",
       "2    116.306667\n",
       "3    142.086667\n",
       "4    125.400000\n",
       "dtype: float64"
      ]
     },
     "execution_count": 118,
     "metadata": {},
     "output_type": "execute_result"
    }
   ],
   "source": [
    "s = pd.DataFrame(df_words_by_type['posts_char_count'].values.tolist()).mean(1)\n",
    "s"
   ]
  },
  {
   "cell_type": "code",
   "execution_count": 133,
   "metadata": {},
   "outputs": [
    {
     "data": {
      "text/html": [
       "<div>\n",
       "<style scoped>\n",
       "    .dataframe tbody tr th:only-of-type {\n",
       "        vertical-align: middle;\n",
       "    }\n",
       "\n",
       "    .dataframe tbody tr th {\n",
       "        vertical-align: top;\n",
       "    }\n",
       "\n",
       "    .dataframe thead th {\n",
       "        text-align: right;\n",
       "    }\n",
       "</style>\n",
       "<table border=\"1\" class=\"dataframe\">\n",
       "  <thead>\n",
       "    <tr style=\"text-align: right;\">\n",
       "      <th></th>\n",
       "      <th>posts_char_count</th>\n",
       "      <th>Mean</th>\n",
       "    </tr>\n",
       "    <tr>\n",
       "      <th>type</th>\n",
       "      <th></th>\n",
       "      <th></th>\n",
       "    </tr>\n",
       "  </thead>\n",
       "  <tbody>\n",
       "    <tr>\n",
       "      <td>ENTJ</td>\n",
       "      <td>[13, 190, 170, 42, 195, 60, 98, 202, 66, 90, 1...</td>\n",
       "      <td>NaN</td>\n",
       "    </tr>\n",
       "    <tr>\n",
       "      <td>ENTP</td>\n",
       "      <td>[56, 196, 36, 191, 49, 198, 201, 67, 49, 191, ...</td>\n",
       "      <td>NaN</td>\n",
       "    </tr>\n",
       "    <tr>\n",
       "      <td>INFJ</td>\n",
       "      <td>[42, 61, 151, 61, 117, 36, 135, 200, 171, 18, ...</td>\n",
       "      <td>NaN</td>\n",
       "    </tr>\n",
       "    <tr>\n",
       "      <td>INTJ</td>\n",
       "      <td>[188, 52, 83, 93, 50, 201, 200, 196, 122, 41, ...</td>\n",
       "      <td>NaN</td>\n",
       "    </tr>\n",
       "    <tr>\n",
       "      <td>INTP</td>\n",
       "      <td>[61, 66, 197, 35, 201, 200, 34, 56, 77, 146, 1...</td>\n",
       "      <td>NaN</td>\n",
       "    </tr>\n",
       "  </tbody>\n",
       "</table>\n",
       "</div>"
      ],
      "text/plain": [
       "                                       posts_char_count  Mean\n",
       "type                                                         \n",
       "ENTJ  [13, 190, 170, 42, 195, 60, 98, 202, 66, 90, 1...   NaN\n",
       "ENTP  [56, 196, 36, 191, 49, 198, 201, 67, 49, 191, ...   NaN\n",
       "INFJ  [42, 61, 151, 61, 117, 36, 135, 200, 171, 18, ...   NaN\n",
       "INTJ  [188, 52, 83, 93, 50, 201, 200, 196, 122, 41, ...   NaN\n",
       "INTP  [61, 66, 197, 35, 201, 200, 34, 56, 77, 146, 1...   NaN"
      ]
     },
     "execution_count": 133,
     "metadata": {},
     "output_type": "execute_result"
    }
   ],
   "source": [
    "df_words_by_type['Mean'] = pd.DataFrame(df_words_by_type['posts_char_count'].values.tolist()).mean(1)\n",
    "df_words_by_type"
   ]
  },
  {
   "cell_type": "code",
   "execution_count": 95,
   "metadata": {},
   "outputs": [
    {
     "data": {
      "text/plain": [
       "int"
      ]
     },
     "execution_count": 95,
     "metadata": {},
     "output_type": "execute_result"
    }
   ],
   "source": [
    "type(df_words_by_type['posts_char_count'][0][0])"
   ]
  },
  {
   "cell_type": "code",
   "execution_count": null,
   "metadata": {},
   "outputs": [],
   "source": []
  },
  {
   "cell_type": "code",
   "execution_count": null,
   "metadata": {},
   "outputs": [],
   "source": []
  },
  {
   "cell_type": "code",
   "execution_count": null,
   "metadata": {},
   "outputs": [],
   "source": []
  },
  {
   "cell_type": "code",
   "execution_count": null,
   "metadata": {},
   "outputs": [],
   "source": []
  },
  {
   "cell_type": "code",
   "execution_count": 14,
   "metadata": {},
   "outputs": [],
   "source": [
    "def split_text_by_delim(text, delim=' '):\n",
    "    return text.split(delim)\n"
   ]
  },
  {
   "cell_type": "code",
   "execution_count": null,
   "metadata": {},
   "outputs": [],
   "source": [
    "def remove_extra_quotes():"
   ]
  },
  {
   "cell_type": "code",
   "execution_count": 19,
   "metadata": {},
   "outputs": [
    {
     "data": {
      "text/plain": [
       "\"'\""
      ]
     },
     "execution_count": 19,
     "metadata": {},
     "output_type": "execute_result"
    }
   ],
   "source": [
    "txt_raw[-1]"
   ]
  },
  {
   "cell_type": "raw",
   "metadata": {},
   "source": [
    "txt_raw = df_raw['posts'][0]\n",
    "txt_posts = split_text_by_delim(txt_raw, '|||')\n",
    "txt_posts"
   ]
  },
  {
   "cell_type": "code",
   "execution_count": null,
   "metadata": {},
   "outputs": [],
   "source": []
  },
  {
   "cell_type": "code",
   "execution_count": null,
   "metadata": {},
   "outputs": [],
   "source": []
  },
  {
   "cell_type": "code",
   "execution_count": null,
   "metadata": {},
   "outputs": [],
   "source": []
  },
  {
   "cell_type": "code",
   "execution_count": null,
   "metadata": {},
   "outputs": [],
   "source": []
  },
  {
   "cell_type": "code",
   "execution_count": null,
   "metadata": {},
   "outputs": [],
   "source": []
  },
  {
   "cell_type": "code",
   "execution_count": null,
   "metadata": {},
   "outputs": [],
   "source": []
  },
  {
   "cell_type": "code",
   "execution_count": null,
   "metadata": {},
   "outputs": [],
   "source": []
  }
 ],
 "metadata": {
  "kernelspec": {
   "display_name": "Python 3",
   "language": "python",
   "name": "python3"
  },
  "language_info": {
   "codemirror_mode": {
    "name": "ipython",
    "version": 3
   },
   "file_extension": ".py",
   "mimetype": "text/x-python",
   "name": "python",
   "nbconvert_exporter": "python",
   "pygments_lexer": "ipython3",
   "version": "3.7.4"
  }
 },
 "nbformat": 4,
 "nbformat_minor": 2
}
